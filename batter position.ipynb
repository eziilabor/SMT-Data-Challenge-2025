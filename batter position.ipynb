{
 "cells": [
  {
   "cell_type": "markdown",
   "id": "b0fb4440-30a4-4478-b485-3a0e6f55a7df",
   "metadata": {},
   "source": [
    "# Batter Position"
   ]
  },
  {
   "cell_type": "markdown",
   "id": "f701cffd-e565-4a03-8e18-3c2dcc778bea",
   "metadata": {},
   "source": [
    "The purpose of this file is to identify the position of the batter when hitting the ball thrown from the pitcher. The size of the csv's from the player position are very large and would be difficult to use along side with the others dataframes."
   ]
  },
  {
   "cell_type": "code",
   "execution_count": 1,
   "id": "35be93fc-413c-4d10-b05f-5ed840456a13",
   "metadata": {},
   "outputs": [],
   "source": [
    "import pandas as pd\n",
    "import pyarrow.dataset as pads\n",
    "import os\n",
    "import seaborn as sns\n",
    "import numpy as np\n",
    "import statsmodels.api as sm"
   ]
  },
  {
   "cell_type": "code",
   "execution_count": 2,
   "id": "09441bc6-6f15-4b47-ab88-0f3c979e553a",
   "metadata": {},
   "outputs": [],
   "source": [
    "# For the data_path argument, include the full file path to the folder that holds the data!    \n",
    "def readDataSubset(table_type, data_path=\"~/Desktop/SMT-Data-Challenge-2025-Updated\"):\n",
    "    if table_type not in ['ball_pos', 'game_events', 'game_info', 'player_pos', 'rosters']:\n",
    "        print(\"Invalid data subset name. Please try again with a valid data subset.\")\n",
    "        return -1\n",
    "\n",
    "    if table_type == 'rosters':\n",
    "        return pads.dataset(source = os.path.join(os.path.dirname(__name__), \n",
    "                                                  data_path, 'rosters.csv'), format = 'csv')\n",
    "    else:\n",
    "        return pads.dataset(source = os.path.join(os.path.dirname(__name__), \n",
    "                                                  data_path, table_type),\n",
    "                            format = 'csv', partitioning = ['home_team', 'away_team', 'year', 'day'])\n"
   ]
  },
  {
   "cell_type": "code",
   "execution_count": 4,
   "id": "c1d348c5-e68e-4cec-a5d8-0d5a8dbb0d73",
   "metadata": {},
   "outputs": [
    {
     "data": {
      "text/html": [
       "<div>\n",
       "<style scoped>\n",
       "    .dataframe tbody tr th:only-of-type {\n",
       "        vertical-align: middle;\n",
       "    }\n",
       "\n",
       "    .dataframe tbody tr th {\n",
       "        vertical-align: top;\n",
       "    }\n",
       "\n",
       "    .dataframe thead th {\n",
       "        text-align: right;\n",
       "    }\n",
       "</style>\n",
       "<table border=\"1\" class=\"dataframe\">\n",
       "  <thead>\n",
       "    <tr style=\"text-align: right;\">\n",
       "      <th></th>\n",
       "      <th>game_str</th>\n",
       "      <th>play_id</th>\n",
       "      <th>timestamp</th>\n",
       "      <th>player_position</th>\n",
       "      <th>field_x</th>\n",
       "      <th>field_y</th>\n",
       "    </tr>\n",
       "  </thead>\n",
       "  <tbody>\n",
       "    <tr>\n",
       "      <th>0</th>\n",
       "      <td>y1_d069_ACN_QEA</td>\n",
       "      <td>1</td>\n",
       "      <td>14853</td>\n",
       "      <td>1</td>\n",
       "      <td>0.6102</td>\n",
       "      <td>58.6314</td>\n",
       "    </tr>\n",
       "    <tr>\n",
       "      <th>1</th>\n",
       "      <td>y1_d069_ACN_QEA</td>\n",
       "      <td>1</td>\n",
       "      <td>14853</td>\n",
       "      <td>2</td>\n",
       "      <td>1.7643</td>\n",
       "      <td>-6.4374</td>\n",
       "    </tr>\n",
       "    <tr>\n",
       "      <th>2</th>\n",
       "      <td>y1_d069_ACN_QEA</td>\n",
       "      <td>1</td>\n",
       "      <td>14853</td>\n",
       "      <td>3</td>\n",
       "      <td>69.9423</td>\n",
       "      <td>98.1246</td>\n",
       "    </tr>\n",
       "    <tr>\n",
       "      <th>3</th>\n",
       "      <td>y1_d069_ACN_QEA</td>\n",
       "      <td>1</td>\n",
       "      <td>14853</td>\n",
       "      <td>4</td>\n",
       "      <td>37.2924</td>\n",
       "      <td>146.9091</td>\n",
       "    </tr>\n",
       "    <tr>\n",
       "      <th>4</th>\n",
       "      <td>y1_d069_ACN_QEA</td>\n",
       "      <td>1</td>\n",
       "      <td>14853</td>\n",
       "      <td>5</td>\n",
       "      <td>-66.9441</td>\n",
       "      <td>86.1147</td>\n",
       "    </tr>\n",
       "  </tbody>\n",
       "</table>\n",
       "</div>"
      ],
      "text/plain": [
       "          game_str  play_id  timestamp  player_position  field_x   field_y\n",
       "0  y1_d069_ACN_QEA        1      14853                1   0.6102   58.6314\n",
       "1  y1_d069_ACN_QEA        1      14853                2   1.7643   -6.4374\n",
       "2  y1_d069_ACN_QEA        1      14853                3  69.9423   98.1246\n",
       "3  y1_d069_ACN_QEA        1      14853                4  37.2924  146.9091\n",
       "4  y1_d069_ACN_QEA        1      14853                5 -66.9441   86.1147"
      ]
     },
     "execution_count": 4,
     "metadata": {},
     "output_type": "execute_result"
    }
   ],
   "source": [
    "def main():\n",
    "    rosters_df = readDataSubset('player_pos')\n",
    "\n",
    "    full_df = rosters_df.to_table(columns=['game_str','play_id','timestamp',\n",
    "                                           'player_position', 'field_x','field_y'\n",
    "                                           ]).to_pandas()\n",
    "    return full_df\n",
    "\n",
    "if __name__ == \"__main__\":\n",
    "    player_pos_df = main()\n",
    "\n",
    "player_pos_df.head()"
   ]
  },
  {
   "cell_type": "code",
   "execution_count": 8,
   "id": "c0b5605f-f3d8-4bb4-806f-800de95244b3",
   "metadata": {},
   "outputs": [
    {
     "data": {
      "text/html": [
       "<div>\n",
       "<style scoped>\n",
       "    .dataframe tbody tr th:only-of-type {\n",
       "        vertical-align: middle;\n",
       "    }\n",
       "\n",
       "    .dataframe tbody tr th {\n",
       "        vertical-align: top;\n",
       "    }\n",
       "\n",
       "    .dataframe thead th {\n",
       "        text-align: right;\n",
       "    }\n",
       "</style>\n",
       "<table border=\"1\" class=\"dataframe\">\n",
       "  <thead>\n",
       "    <tr style=\"text-align: right;\">\n",
       "      <th></th>\n",
       "      <th>game_str</th>\n",
       "      <th>play_id</th>\n",
       "      <th>timestamp</th>\n",
       "      <th>player_position</th>\n",
       "      <th>field_x</th>\n",
       "      <th>field_y</th>\n",
       "    </tr>\n",
       "  </thead>\n",
       "  <tbody>\n",
       "    <tr>\n",
       "      <th>9</th>\n",
       "      <td>y1_d069_ACN_QEA</td>\n",
       "      <td>1</td>\n",
       "      <td>14853</td>\n",
       "      <td>10</td>\n",
       "      <td>-2.1867</td>\n",
       "      <td>-0.7866</td>\n",
       "    </tr>\n",
       "    <tr>\n",
       "      <th>19</th>\n",
       "      <td>y1_d069_ACN_QEA</td>\n",
       "      <td>1</td>\n",
       "      <td>14903</td>\n",
       "      <td>10</td>\n",
       "      <td>-2.1867</td>\n",
       "      <td>-0.7866</td>\n",
       "    </tr>\n",
       "    <tr>\n",
       "      <th>29</th>\n",
       "      <td>y1_d069_ACN_QEA</td>\n",
       "      <td>1</td>\n",
       "      <td>14953</td>\n",
       "      <td>10</td>\n",
       "      <td>-2.1867</td>\n",
       "      <td>-0.7866</td>\n",
       "    </tr>\n",
       "    <tr>\n",
       "      <th>39</th>\n",
       "      <td>y1_d069_ACN_QEA</td>\n",
       "      <td>1</td>\n",
       "      <td>15003</td>\n",
       "      <td>10</td>\n",
       "      <td>-2.1867</td>\n",
       "      <td>-0.7866</td>\n",
       "    </tr>\n",
       "    <tr>\n",
       "      <th>49</th>\n",
       "      <td>y1_d069_ACN_QEA</td>\n",
       "      <td>1</td>\n",
       "      <td>15053</td>\n",
       "      <td>10</td>\n",
       "      <td>-2.1867</td>\n",
       "      <td>-0.7866</td>\n",
       "    </tr>\n",
       "  </tbody>\n",
       "</table>\n",
       "</div>"
      ],
      "text/plain": [
       "           game_str  play_id  timestamp  player_position  field_x  field_y\n",
       "9   y1_d069_ACN_QEA        1      14853               10  -2.1867  -0.7866\n",
       "19  y1_d069_ACN_QEA        1      14903               10  -2.1867  -0.7866\n",
       "29  y1_d069_ACN_QEA        1      14953               10  -2.1867  -0.7866\n",
       "39  y1_d069_ACN_QEA        1      15003               10  -2.1867  -0.7866\n",
       "49  y1_d069_ACN_QEA        1      15053               10  -2.1867  -0.7866"
      ]
     },
     "execution_count": 8,
     "metadata": {},
     "output_type": "execute_result"
    }
   ],
   "source": [
    "batter_pos = player_pos_df[player_pos_df['player_position'] == 10]\n",
    "batter_pos.head()"
   ]
  },
  {
   "cell_type": "code",
   "execution_count": 9,
   "id": "3c69b33a-7cca-4d6d-8523-2ed0d6ccaea8",
   "metadata": {},
   "outputs": [],
   "source": [
    "batter_pos.to_csv(\"batter_pos.csv\", index=False)"
   ]
  }
 ],
 "metadata": {
  "kernelspec": {
   "display_name": "Python 3 (ipykernel)",
   "language": "python",
   "name": "python3"
  },
  "language_info": {
   "codemirror_mode": {
    "name": "ipython",
    "version": 3
   },
   "file_extension": ".py",
   "mimetype": "text/x-python",
   "name": "python",
   "nbconvert_exporter": "python",
   "pygments_lexer": "ipython3",
   "version": "3.10.18"
  }
 },
 "nbformat": 4,
 "nbformat_minor": 5
}
